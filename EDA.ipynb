{
 "cells": [
  {
   "cell_type": "markdown",
   "metadata": {},
   "source": [
    "## FNOMCEO"
   ]
  },
  {
   "cell_type": "code",
   "execution_count": 1,
   "metadata": {},
   "outputs": [
    {
     "name": "stdout",
     "output_type": "stream",
     "text": [
      "Collecting matplotlib\n",
      "  Obtaining dependency information for matplotlib from https://files.pythonhosted.org/packages/50/ce/a6bc93f7a44dd1fd23698698e369e141f4f24e7098d0a5937808afee3f5e/matplotlib-3.8.3-cp312-cp312-win_amd64.whl.metadata\n",
      "  Downloading matplotlib-3.8.3-cp312-cp312-win_amd64.whl.metadata (5.9 kB)\n",
      "Collecting contourpy>=1.0.1 (from matplotlib)\n",
      "  Obtaining dependency information for contourpy>=1.0.1 from https://files.pythonhosted.org/packages/8e/ae/a6353db548bff1a592b85ae6bb80275f0a51dc25a0410d059e5b33183e36/contourpy-1.2.0-cp312-cp312-win_amd64.whl.metadata\n",
      "  Downloading contourpy-1.2.0-cp312-cp312-win_amd64.whl.metadata (5.8 kB)\n",
      "Collecting cycler>=0.10 (from matplotlib)\n",
      "  Obtaining dependency information for cycler>=0.10 from https://files.pythonhosted.org/packages/e7/05/c19819d5e3d95294a6f5947fb9b9629efb316b96de511b418c53d245aae6/cycler-0.12.1-py3-none-any.whl.metadata\n",
      "  Downloading cycler-0.12.1-py3-none-any.whl.metadata (3.8 kB)\n",
      "Collecting fonttools>=4.22.0 (from matplotlib)\n",
      "  Obtaining dependency information for fonttools>=4.22.0 from https://files.pythonhosted.org/packages/28/27/42f5cac9f5ee15ab65b3fd939e37a115a0a5e367fcabde5b901599daa85a/fonttools-4.49.0-cp312-cp312-win_amd64.whl.metadata\n",
      "  Downloading fonttools-4.49.0-cp312-cp312-win_amd64.whl.metadata (162 kB)\n",
      "     ---------------------------------------- 0.0/162.3 kB ? eta -:--:--\n",
      "     ---------------------------- --------- 122.9/162.3 kB 3.6 MB/s eta 0:00:01\n",
      "     -------------------------------------- 162.3/162.3 kB 3.2 MB/s eta 0:00:00\n",
      "Collecting kiwisolver>=1.3.1 (from matplotlib)\n",
      "  Obtaining dependency information for kiwisolver>=1.3.1 from https://files.pythonhosted.org/packages/63/50/2746566bdf4a6a842d117367d05c90cfb87ac04e9e2845aa1fa21f071362/kiwisolver-1.4.5-cp312-cp312-win_amd64.whl.metadata\n",
      "  Downloading kiwisolver-1.4.5-cp312-cp312-win_amd64.whl.metadata (6.5 kB)\n",
      "Requirement already satisfied: numpy<2,>=1.21 in c:\\users\\alexc\\appdata\\local\\programs\\python\\python312\\lib\\site-packages (from matplotlib) (1.26.4)\n",
      "Requirement already satisfied: packaging>=20.0 in c:\\users\\alexc\\appdata\\roaming\\python\\python312\\site-packages (from matplotlib) (23.2)\n",
      "Collecting pillow>=8 (from matplotlib)\n",
      "  Obtaining dependency information for pillow>=8 from https://files.pythonhosted.org/packages/51/07/7e9266a59bb267b56c1f432f6416653b9a78dda771c57740d064a8aa2a44/pillow-10.2.0-cp312-cp312-win_amd64.whl.metadata\n",
      "  Downloading pillow-10.2.0-cp312-cp312-win_amd64.whl.metadata (9.9 kB)\n",
      "Collecting pyparsing>=2.3.1 (from matplotlib)\n",
      "  Obtaining dependency information for pyparsing>=2.3.1 from https://files.pythonhosted.org/packages/39/92/8486ede85fcc088f1b3dba4ce92dd29d126fd96b0008ea213167940a2475/pyparsing-3.1.1-py3-none-any.whl.metadata\n",
      "  Downloading pyparsing-3.1.1-py3-none-any.whl.metadata (5.1 kB)\n",
      "Requirement already satisfied: python-dateutil>=2.7 in c:\\users\\alexc\\appdata\\roaming\\python\\python312\\site-packages (from matplotlib) (2.8.2)\n",
      "Requirement already satisfied: six>=1.5 in c:\\users\\alexc\\appdata\\roaming\\python\\python312\\site-packages (from python-dateutil>=2.7->matplotlib) (1.16.0)\n",
      "Downloading matplotlib-3.8.3-cp312-cp312-win_amd64.whl (7.6 MB)\n",
      "   ---------------------------------------- 0.0/7.6 MB ? eta -:--:--\n",
      "   -------- ------------------------------- 1.7/7.6 MB 35.7 MB/s eta 0:00:01\n",
      "   ------------------------ --------------- 4.7/7.6 MB 49.9 MB/s eta 0:00:01\n",
      "   ---------------------------------------  7.6/7.6 MB 54.0 MB/s eta 0:00:01\n",
      "   ---------------------------------------- 7.6/7.6 MB 49.0 MB/s eta 0:00:00\n",
      "Downloading contourpy-1.2.0-cp312-cp312-win_amd64.whl (187 kB)\n",
      "   ---------------------------------------- 0.0/187.7 kB ? eta -:--:--\n",
      "   --------------------------------------- 187.7/187.7 kB 11.1 MB/s eta 0:00:00\n",
      "Downloading cycler-0.12.1-py3-none-any.whl (8.3 kB)\n",
      "Downloading fonttools-4.49.0-cp312-cp312-win_amd64.whl (2.2 MB)\n",
      "   ---------------------------------------- 0.0/2.2 MB ? eta -:--:--\n",
      "   ---------------------------------------  2.2/2.2 MB 69.4 MB/s eta 0:00:01\n",
      "   ---------------------------------------- 2.2/2.2 MB 45.9 MB/s eta 0:00:00\n",
      "Downloading kiwisolver-1.4.5-cp312-cp312-win_amd64.whl (56 kB)\n",
      "   ---------------------------------------- 0.0/56.0 kB ? eta -:--:--\n",
      "   ---------------------------------------- 56.0/56.0 kB ? eta 0:00:00\n",
      "Downloading pillow-10.2.0-cp312-cp312-win_amd64.whl (2.6 MB)\n",
      "   ---------------------------------------- 0.0/2.6 MB ? eta -:--:--\n",
      "   ------------------------------------ --- 2.4/2.6 MB 51.0 MB/s eta 0:00:01\n",
      "   ---------------------------------------- 2.6/2.6 MB 55.6 MB/s eta 0:00:00\n",
      "Downloading pyparsing-3.1.1-py3-none-any.whl (103 kB)\n",
      "   ---------------------------------------- 0.0/103.1 kB ? eta -:--:--\n",
      "   ---------------------------------------- 103.1/103.1 kB ? eta 0:00:00\n",
      "Installing collected packages: pyparsing, pillow, kiwisolver, fonttools, cycler, contourpy, matplotlib\n",
      "Successfully installed contourpy-1.2.0 cycler-0.12.1 fonttools-4.49.0 kiwisolver-1.4.5 matplotlib-3.8.3 pillow-10.2.0 pyparsing-3.1.1\n",
      "Note: you may need to restart the kernel to use updated packages.\n"
     ]
    },
    {
     "name": "stderr",
     "output_type": "stream",
     "text": [
      "  WARNING: The scripts fonttools.exe, pyftmerge.exe, pyftsubset.exe and ttx.exe are installed in 'c:\\Users\\alexc\\AppData\\Local\\Programs\\Python\\Python312\\Scripts' which is not on PATH.\n",
      "  Consider adding this directory to PATH or, if you prefer to suppress this warning, use --no-warn-script-location.\n",
      "\n",
      "[notice] A new release of pip is available: 23.2.1 -> 24.0\n",
      "[notice] To update, run: python.exe -m pip install --upgrade pip\n"
     ]
    }
   ],
   "source": [
    "pip install matplotlib"
   ]
  },
  {
   "cell_type": "code",
   "execution_count": null,
   "metadata": {},
   "outputs": [],
   "source": []
  },
  {
   "cell_type": "markdown",
   "metadata": {},
   "source": [
    "#### Ages distribution"
   ]
  },
  {
   "cell_type": "code",
   "execution_count": 2,
   "metadata": {},
   "outputs": [
    {
     "data": {
      "image/png": "[encoded data removed]",
      "text/plain": [
       "<Figure size 1000x600 with 1 Axes>"
      ]
     },
     "metadata": {},
     "output_type": "display_data"
    }
   ],
   "source": [
    "import json\n",
    "import pandas as pd\n",
    "from datetime import datetime\n",
    "import matplotlib.pyplot as plt\n",
    "\n",
    "# Funzione per calcolare l'età a partire dalla data di nascita\n",
    "def calcola_eta(date_of_birth_str):\n",
    "    date_of_birth = datetime.strptime(date_of_birth_str, \"%d/%m/%Y\")\n",
    "    today = datetime.today()\n",
    "    return today.year - date_of_birth.year - ((today.month, today.day) < (date_of_birth.month, date_of_birth.day))\n",
    "\n",
    "# Carica i dati dal file JSON\n",
    "  # Modifica con il percorso esatto del tuo file\n",
    "with open('./final_data/fnomceo/fnomceo_final_data.json', 'r') as file:\n",
    "    data = json.load(file)\n",
    "\n",
    "# Converti i dati in un DataFrame\n",
    "df_fnomceo = pd.DataFrame(data)\n",
    "\n",
    "# Calcola l'età per ogni riga nel DataFrame\n",
    "df_fnomceo['eta'] = df_fnomceo['date_of_birth'].apply(calcola_eta)\n",
    "\n",
    "bins = range(0, 101, 5)\n",
    "# Visualizza un istogramma delle età\n",
    "plt.figure(figsize=(10, 6))\n",
    "plt.hist(df_fnomceo['eta'], bins=bins, color='skyblue', edgecolor='black')\n",
    "plt.title('Age_Distribution_fnomceo')\n",
    "plt.xlabel('Age')\n",
    "plt.ylabel('Frequency')\n",
    "plt.grid(axis='y', alpha=0.75)\n",
    "plt.xlim(0, 100)\n",
    "plt.show()\n",
    "\n",
    "\n",
    "\n",
    "\n"
   ]
  },
  {
   "cell_type": "markdown",
   "metadata": {},
   "source": [
    "### Descriptive_analysis_fnomceo"
   ]
  },
  {
   "cell_type": "code",
   "execution_count": 3,
   "metadata": {},
   "outputs": [
    {
     "name": "stdout",
     "output_type": "stream",
     "text": [
      "count       357084.000000\n",
      "mean            53.758320\n",
      "std             16.579119\n",
      "min             23.000000\n",
      "25%             39.000000\n",
      "50%             57.000000\n",
      "75%             67.000000\n",
      "max           1845.000000\n",
      "skewness         3.401799\n",
      "Name: eta, dtype: float64\n"
     ]
    }
   ],
   "source": [
    "df_fnomceo['eta'] = df_fnomceo['date_of_birth'].apply(calcola_eta)\n",
    "\n",
    "# Calcola statistiche descrittive per l'età\n",
    "desc_stats = df_fnomceo['eta'].describe()\n",
    "\n",
    "# Calcola la simmetria per l'età\n",
    "skewness = df_fnomceo['eta'].skew()\n",
    "\n",
    "# Aggiungi la simmetria al DataFrame delle statistiche descrittive\n",
    "desc_stats['skewness'] = skewness\n",
    "\n",
    "# Visualizza le statistiche\n",
    "print(desc_stats)"
   ]
  },
  {
   "cell_type": "code",
   "execution_count": 4,
   "metadata": {},
   "outputs": [
    {
     "name": "stdout",
     "output_type": "stream",
     "text": [
      "Collecting seabornNote: you may need to restart the kernel to use updated packages.\n",
      "\n",
      "  Obtaining dependency information for seaborn from https://files.pythonhosted.org/packages/83/11/00d3c3dfc25ad54e731d91449895a79e4bf2384dc3ac01809010ba88f6d5/seaborn-0.13.2-py3-none-any.whl.metadata\n",
      "  Downloading seaborn-0.13.2-py3-none-any.whl.metadata (5.4 kB)\n",
      "Requirement already satisfied: numpy!=1.24.0,>=1.20 in c:\\users\\alexc\\appdata\\local\\programs\\python\\python312\\lib\\site-packages (from seaborn) (1.26.4)\n",
      "Requirement already satisfied: pandas>=1.2 in c:\\users\\alexc\\appdata\\local\\programs\\python\\python312\\lib\\site-packages (from seaborn) (2.2.0)\n",
      "Requirement already satisfied: matplotlib!=3.6.1,>=3.4 in c:\\users\\alexc\\appdata\\local\\programs\\python\\python312\\lib\\site-packages (from seaborn) (3.8.3)\n",
      "Requirement already satisfied: contourpy>=1.0.1 in c:\\users\\alexc\\appdata\\local\\programs\\python\\python312\\lib\\site-packages (from matplotlib!=3.6.1,>=3.4->seaborn) (1.2.0)\n",
      "Requirement already satisfied: cycler>=0.10 in c:\\users\\alexc\\appdata\\local\\programs\\python\\python312\\lib\\site-packages (from matplotlib!=3.6.1,>=3.4->seaborn) (0.12.1)\n",
      "Requirement already satisfied: fonttools>=4.22.0 in c:\\users\\alexc\\appdata\\local\\programs\\python\\python312\\lib\\site-packages (from matplotlib!=3.6.1,>=3.4->seaborn) (4.49.0)\n",
      "Requirement already satisfied: kiwisolver>=1.3.1 in c:\\users\\alexc\\appdata\\local\\programs\\python\\python312\\lib\\site-packages (from matplotlib!=3.6.1,>=3.4->seaborn) (1.4.5)\n",
      "Requirement already satisfied: packaging>=20.0 in c:\\users\\alexc\\appdata\\roaming\\python\\python312\\site-packages (from matplotlib!=3.6.1,>=3.4->seaborn) (23.2)\n",
      "Requirement already satisfied: pillow>=8 in c:\\users\\alexc\\appdata\\local\\programs\\python\\python312\\lib\\site-packages (from matplotlib!=3.6.1,>=3.4->seaborn) (10.2.0)\n",
      "Requirement already satisfied: pyparsing>=2.3.1 in c:\\users\\alexc\\appdata\\local\\programs\\python\\python312\\lib\\site-packages (from matplotlib!=3.6.1,>=3.4->seaborn) (3.1.1)\n",
      "Requirement already satisfied: python-dateutil>=2.7 in c:\\users\\alexc\\appdata\\roaming\\python\\python312\\site-packages (from matplotlib!=3.6.1,>=3.4->seaborn) (2.8.2)\n",
      "Requirement already satisfied: pytz>=2020.1 in c:\\users\\alexc\\appdata\\local\\programs\\python\\python312\\lib\\site-packages (from pandas>=1.2->seaborn) (2024.1)\n",
      "Requirement already satisfied: tzdata>=2022.7 in c:\\users\\alexc\\appdata\\local\\programs\\python\\python312\\lib\\site-packages (from pandas>=1.2->seaborn) (2024.1)\n",
      "Requirement already satisfied: six>=1.5 in c:\\users\\alexc\\appdata\\roaming\\python\\python312\\site-packages (from python-dateutil>=2.7->matplotlib!=3.6.1,>=3.4->seaborn) (1.16.0)\n",
      "Downloading seaborn-0.13.2-py3-none-any.whl (294 kB)\n",
      "   ---------------------------------------- 0.0/294.9 kB ? eta -:--:--\n",
      "   - -------------------------------------- 10.2/294.9 kB ? eta -:--:--\n",
      "   -------------------- ------------------- 153.6/294.9 kB 2.3 MB/s eta 0:00:01\n",
      "   ---------------------------------------- 294.9/294.9 kB 3.6 MB/s eta 0:00:00\n",
      "Installing collected packages: seaborn\n",
      "Successfully installed seaborn-0.13.2\n"
     ]
    },
    {
     "name": "stderr",
     "output_type": "stream",
     "text": [
      "\n",
      "[notice] A new release of pip is available: 23.2.1 -> 24.0\n",
      "[notice] To update, run: python.exe -m pip install --upgrade pip\n"
     ]
    }
   ],
   "source": [
    "pip install seaborn"
   ]
  },
  {
   "cell_type": "code",
   "execution_count": 5,
   "metadata": {},
   "outputs": [
    {
     "name": "stdout",
     "output_type": "stream",
     "text": [
      "  person_id  surname               first_name date_of_birth  \\\n",
      "0    399366  BADESSA                  ANTONIO    06/07/1946   \n",
      "1     33538  BADESSA                FRANCESCO    01/01/1967   \n",
      "2    325585  BADESSI                FRANCESCA    03/07/1981   \n",
      "3    343163  BADESSI  FRANCESCO GIUSEPPE ALDO    18/12/1947   \n",
      "4    554984  BADESSI                  GIORGIO    28/12/1991   \n",
      "\n",
      "                    birth_place             province  \\\n",
      "0  SANT'AGATA DI MILITELLO (ME)   FORLI'-CESENA (FC)   \n",
      "1                  MESSINA (ME)         MESSINA (ME)   \n",
      "2                  ALGHERO (SS)         SASSARI (SS)   \n",
      "3                  ARBOREA (OR)         SASSARI (SS)   \n",
      "4              PAESI BASSI (EE)            ROMA (RM)   \n",
      "\n",
      "                               full_name    prefix  \\\n",
      "0                  DOTT. BADESSA ANTONIO     DOTT.   \n",
      "1                DOTT. BADESSA FRANCESCO     DOTT.   \n",
      "2             Dott.ssa BADESSI FRANCESCA  Dott.ssa   \n",
      "3  Dott. BADESSI FRANCESCO GIUSEPPE ALDO     Dott.   \n",
      "4                  Dott. BADESSI GIORGIO     Dott.   \n",
      "\n",
      "                                          iscrizioni  \\\n",
      "0  [{'province': 'FORLI'-CESENA', 'year': '03/04/...   \n",
      "1  [{'province': 'MESSINA', 'year': '31/01/1992',...   \n",
      "2  [{'province': 'SASSARI', 'year': '21/02/2006',...   \n",
      "3  [{'province': 'SASSARI', 'year': '24/06/1976',...   \n",
      "4  [{'province': 'ROMA', 'year': '26/07/2018', 'n...   \n",
      "\n",
      "                                              lauree  \\\n",
      "0  [{'university_name': 'BOLOGNA ALMA MATER STUDI...   \n",
      "1  [{'university_name': 'MESSINA', 'name': 'MEDIC...   \n",
      "2  [{'university_name': 'SASSARI', 'name': 'MEDIC...   \n",
      "3  [{'university_name': 'SASSARI', 'name': 'MEDIC...   \n",
      "4  [{'university_name': 'PAVIA', 'name': 'MEDICIN...   \n",
      "\n",
      "                                        abilitazioni  \\\n",
      "0  [{'university_name': 'BOLOGNA ALMA MATER STUDI...   \n",
      "1  [{'university_name': 'MESSINA', 'name': 'Medic...   \n",
      "2  [{'university_name': 'SASSARI', 'name': 'Medic...   \n",
      "3  [{'university_name': 'SASSARI', 'name': 'Medic...   \n",
      "4  [{'university_name': 'PAVIA', 'name': 'Medicin...   \n",
      "\n",
      "                                    specializzazioni last_update_date  \\\n",
      "0  [{'university_name': 'ROMA', 'specializzazione...       24/01/2024   \n",
      "1  [{'university_name': 'MESSINA', 'specializzazi...       12/01/2024   \n",
      "2                                                NaN       12/01/2024   \n",
      "3  [{'university_name': 'SASSARI', 'specializzazi...       12/01/2024   \n",
      "4  [{'university_name': 'MESSINA', 'specializzazi...       05/02/2024   \n",
      "\n",
      "  elenchi_speciali  eta  \n",
      "0              NaN   77  \n",
      "1              NaN   57  \n",
      "2              NaN   42  \n",
      "3              NaN   76  \n",
      "4              NaN   32  \n",
      "<class 'pandas.core.frame.DataFrame'>\n",
      "RangeIndex: 357084 entries, 0 to 357083\n",
      "Data columns (total 15 columns):\n",
      " #   Column            Non-Null Count   Dtype \n",
      "---  ------            --------------   ----- \n",
      " 0   person_id         357084 non-null  object\n",
      " 1   surname           357084 non-null  object\n",
      " 2   first_name        357084 non-null  object\n",
      " 3   date_of_birth     357084 non-null  object\n",
      " 4   birth_place       357084 non-null  object\n",
      " 5   province          357084 non-null  object\n",
      " 6   full_name         357084 non-null  object\n",
      " 7   prefix            357084 non-null  object\n",
      " 8   iscrizioni        357069 non-null  object\n",
      " 9   lauree            357048 non-null  object\n",
      " 10  abilitazioni      346748 non-null  object\n",
      " 11  specializzazioni  180475 non-null  object\n",
      " 12  last_update_date  357069 non-null  object\n",
      " 13  elenchi_speciali  26397 non-null   object\n",
      " 14  eta               357084 non-null  int64 \n",
      "dtypes: int64(1), object(14)\n",
      "memory usage: 40.9+ MB\n",
      "None\n",
      "                 eta\n",
      "count  357084.000000\n",
      "mean       53.758320\n",
      "std        16.579119\n",
      "min        23.000000\n",
      "25%        39.000000\n",
      "50%        57.000000\n",
      "75%        67.000000\n",
      "max      1845.000000\n",
      "person_id                0\n",
      "surname                  0\n",
      "first_name               0\n",
      "date_of_birth            0\n",
      "birth_place              0\n",
      "province                 0\n",
      "full_name                0\n",
      "prefix                   0\n",
      "iscrizioni              15\n",
      "lauree                  36\n",
      "abilitazioni         10336\n",
      "specializzazioni    176609\n",
      "last_update_date        15\n",
      "elenchi_speciali    330687\n",
      "eta                      0\n",
      "dtype: int64\n",
      "Minimum Last Update Date: 2013-04-19 00:00:00\n",
      "Maximum Last Update Date: 2024-02-14 00:00:00\n"
     ]
    }
   ],
   "source": [
    "import seaborn as sns\n",
    "# Display the first few rows of the DataFrame to get a sense of the data\n",
    "print(df_fnomceo.head())\n",
    "\n",
    "# Display general information about the DataFrame, such as the number of non-null values and data type for each column\n",
    "print(df_fnomceo.info())\n",
    "\n",
    "# Calculate descriptive statistics for numeric columns\n",
    "print(df_fnomceo.describe())\n",
    "\n",
    "# Display the number of missing values for each column\n",
    "print(df_fnomceo.isnull().sum())\n",
    "\n",
    "# Convert date strings to datetime objects\n",
    "df_fnomceo['last_update_date'] = pd.to_datetime(df_fnomceo['last_update_date'], format='%d/%m/%Y')\n",
    "\n",
    "# Find the minimum value of the last update date\n",
    "min_date = df_fnomceo['last_update_date'].min()\n",
    "\n",
    "# Find the maximum value of the last update date\n",
    "max_date = df_fnomceo['last_update_date'].max()\n",
    "\n",
    "print(f\"Minimum Last Update Date: {min_date}\")\n",
    "print(f\"Maximum Last Update Date: {max_date}\")\n",
    "\n"
   ]
  },
  {
   "cell_type": "markdown",
   "metadata": {},
   "source": [
    "## FNOFI"
   ]
  },
  {
   "cell_type": "markdown",
   "metadata": {},
   "source": [
    "#### Ages distribution"
   ]
  },
  {
   "cell_type": "code",
   "execution_count": 6,
   "metadata": {},
   "outputs": [
    {
     "data": {
      "image/png": "[encoded data removed]",
      "text/plain": [
       "<Figure size 1000x600 with 1 Axes>"
      ]
     },
     "metadata": {},
     "output_type": "display_data"
    }
   ],
   "source": [
    "#define the function to calculate ages\n",
    "import json\n",
    "from datetime import datetime\n",
    "import pandas as pd\n",
    "from datetime import datetime\n",
    "import matplotlib.pyplot as plt\n",
    "#define the function to calculate ages\n",
    "\n",
    "with open('./final_data/fnofi/fnofi_final_data.json', 'r') as file:\n",
    "    dati = json.load(file)\n",
    "\n",
    "def calculate_age(date_of_birth):\n",
    "    today = datetime.today()\n",
    "    birth_date = datetime.strptime(date_of_birth, \"%Y-%m-%dT%H:%M:%S.%fZ\")\n",
    "   \n",
    "    age = today.year - birth_date.year - ((today.month, today.day) < (birth_date.month, birth_date.day))\n",
    "    return age\n",
    "df_fnofi = pd.DataFrame(dati)\n",
    "# Apply the function and create a new label \"eta\"\n",
    "df_fnofi['eta'] = df_fnofi['date_of_birth'].apply(calculate_age)\n",
    "\n",
    "plt.figure(figsize=(10, 6))\n",
    "plt.hist(df_fnofi['eta'], bins=20, color='skyblue', edgecolor='black')\n",
    "plt.title('Age_distribution_fnofi')\n",
    "plt.xlabel('Age')\n",
    "plt.ylabel('Frequency')\n",
    "plt.grid(axis='y', alpha=0.75)\n",
    "plt.show()\n",
    "\n",
    "\n",
    "\n",
    "\n"
   ]
  },
  {
   "cell_type": "markdown",
   "metadata": {},
   "source": [
    "### Descriptive_analysis_fnofi"
   ]
  },
  {
   "cell_type": "code",
   "execution_count": 7,
   "metadata": {},
   "outputs": [
    {
     "name": "stdout",
     "output_type": "stream",
     "text": [
      "count       48313.000000\n",
      "mean           43.443814\n",
      "std            12.263470\n",
      "min            21.000000\n",
      "25%            33.000000\n",
      "50%            43.000000\n",
      "75%            54.000000\n",
      "max            94.000000\n",
      "skewness        0.141623\n",
      "Name: eta, dtype: float64\n"
     ]
    }
   ],
   "source": [
    "df_fnofi['eta'] = df_fnofi['date_of_birth'].apply(calculate_age)\n",
    "\n",
    "# Calcola statistiche descrittive per l'età\n",
    "desc_stats = df_fnofi['eta'].describe()\n",
    "\n",
    "# Calcola la simmetria per l'età\n",
    "skewness = df_fnofi['eta'].skew()\n",
    "\n",
    "# Aggiungi la simmetria al DataFrame delle statistiche descrittive\n",
    "desc_stats['skewness'] = skewness\n",
    "\n",
    "# Visualizza le statistiche\n",
    "print(desc_stats)"
   ]
  },
  {
   "cell_type": "markdown",
   "metadata": {},
   "source": [
    "## Alboweb"
   ]
  },
  {
   "cell_type": "markdown",
   "metadata": {},
   "source": [
    "#### Ages distribution"
   ]
  },
  {
   "cell_type": "code",
   "execution_count": 8,
   "metadata": {},
   "outputs": [
    {
     "data": {
      "image/png": "[encoded data removed]",
      "text/plain": [
       "<Figure size 1000x600 with 1 Axes>"
      ]
     },
     "metadata": {},
     "output_type": "display_data"
    }
   ],
   "source": [
    "import json\n",
    "from datetime import datetime\n",
    "import pandas as pd\n",
    "from datetime import datetime\n",
    "import matplotlib.pyplot as plt\n",
    "\n",
    "#define the function to calculate ages\n",
    "\n",
    "with open('./final_data/alboweb/alboweb_final_data.json', 'r') as file:\n",
    "    dati = json.load(file)\n",
    "\n",
    "def calculate_ages(date_of_birth):\n",
    "    today = datetime.today()\n",
    "    birth_date = datetime.strptime(date_of_birth, \"%Y-%m-%dT%H:%M:%S.%f%z\")\n",
    "   \n",
    "    age = today.year - birth_date.year - ((today.month, today.day) < (birth_date.month, birth_date.day))\n",
    "    return age\n",
    "df_alboweb = pd.DataFrame(dati)\n",
    "# Apply the function and create a new label \"eta\"\n",
    "df_alboweb['eta'] = df_alboweb['date_of_birth'].apply(calculate_age)\n",
    "\n",
    "plt.figure(figsize=(10, 6))\n",
    "plt.hist(df_alboweb['eta'], bins=20, color='skyblue', edgecolor='black')\n",
    "plt.title('Age_Distribution_alboweb')\n",
    "plt.xlabel('Age')\n",
    "plt.ylabel('Frequency')\n",
    "plt.grid(axis='y', alpha=0.75)\n",
    "plt.show()\n"
   ]
  },
  {
   "cell_type": "markdown",
   "metadata": {},
   "source": [
    "### Descriptive_analysis_alboweb"
   ]
  },
  {
   "cell_type": "code",
   "execution_count": 9,
   "metadata": {},
   "outputs": [
    {
     "name": "stdout",
     "output_type": "stream",
     "text": [
      "count       91559.000000\n",
      "mean           43.024421\n",
      "std            12.622478\n",
      "min            21.000000\n",
      "25%            32.000000\n",
      "50%            42.000000\n",
      "75%            54.000000\n",
      "max            91.000000\n",
      "skewness        0.221820\n",
      "Name: eta, dtype: float64\n"
     ]
    }
   ],
   "source": [
    "df_alboweb['eta'] = df_alboweb['date_of_birth'].apply(calculate_ages)\n",
    "\n",
    "# Calcola statistiche descrittive per l'età\n",
    "desc_stats = df_alboweb['eta'].describe()\n",
    "\n",
    "# Calcola la simmetria per l'età\n",
    "skewness = df_alboweb['eta'].skew()\n",
    "\n",
    "# Aggiungi la simmetria al DataFrame delle statistiche descrittive\n",
    "desc_stats['skewness'] = skewness\n",
    "\n",
    "# Visualizza le statistiche\n",
    "print(desc_stats)"
   ]
  },
  {
   "cell_type": "code",
   "execution_count": 10,
   "metadata": {},
   "outputs": [
    {
     "data": {
      "text/html": [
       "<div>\n",
       "<style scoped>\n",
       "    .dataframe tbody tr th:only-of-type {\n",
       "        vertical-align: middle;\n",
       "    }\n",
       "\n",
       "    .dataframe tbody tr th {\n",
       "        vertical-align: top;\n",
       "    }\n",
       "\n",
       "    .dataframe thead th {\n",
       "        text-align: right;\n",
       "    }\n",
       "</style>\n",
       "<table border=\"1\" class=\"dataframe\">\n",
       "  <thead>\n",
       "    <tr style=\"text-align: right;\">\n",
       "      <th></th>\n",
       "      <th>last_update_date</th>\n",
       "      <th>eta</th>\n",
       "    </tr>\n",
       "  </thead>\n",
       "  <tbody>\n",
       "    <tr>\n",
       "      <th>count</th>\n",
       "      <td>357069</td>\n",
       "      <td>357084.000000</td>\n",
       "    </tr>\n",
       "    <tr>\n",
       "      <th>mean</th>\n",
       "      <td>2024-01-27 09:20:05.766952192</td>\n",
       "      <td>53.758320</td>\n",
       "    </tr>\n",
       "    <tr>\n",
       "      <th>min</th>\n",
       "      <td>2013-04-19 00:00:00</td>\n",
       "      <td>23.000000</td>\n",
       "    </tr>\n",
       "    <tr>\n",
       "      <th>25%</th>\n",
       "      <td>2024-01-22 00:00:00</td>\n",
       "      <td>39.000000</td>\n",
       "    </tr>\n",
       "    <tr>\n",
       "      <th>50%</th>\n",
       "      <td>2024-01-31 00:00:00</td>\n",
       "      <td>57.000000</td>\n",
       "    </tr>\n",
       "    <tr>\n",
       "      <th>75%</th>\n",
       "      <td>2024-02-06 00:00:00</td>\n",
       "      <td>67.000000</td>\n",
       "    </tr>\n",
       "    <tr>\n",
       "      <th>max</th>\n",
       "      <td>2024-02-14 00:00:00</td>\n",
       "      <td>1845.000000</td>\n",
       "    </tr>\n",
       "    <tr>\n",
       "      <th>std</th>\n",
       "      <td>NaN</td>\n",
       "      <td>16.579119</td>\n",
       "    </tr>\n",
       "  </tbody>\n",
       "</table>\n",
       "</div>"
      ],
      "text/plain": [
       "                    last_update_date            eta\n",
       "count                         357069  357084.000000\n",
       "mean   2024-01-27 09:20:05.766952192      53.758320\n",
       "min              2013-04-19 00:00:00      23.000000\n",
       "25%              2024-01-22 00:00:00      39.000000\n",
       "50%              2024-01-31 00:00:00      57.000000\n",
       "75%              2024-02-06 00:00:00      67.000000\n",
       "max              2024-02-14 00:00:00    1845.000000\n",
       "std                              NaN      16.579119"
      ]
     },
     "execution_count": 10,
     "metadata": {},
     "output_type": "execute_result"
    }
   ],
   "source": [
    "df_fnomceo.describe()"
   ]
  },
  {
   "cell_type": "code",
   "execution_count": 11,
   "metadata": {},
   "outputs": [
    {
     "data": {
      "text/html": [
       "<div>\n",
       "<style scoped>\n",
       "    .dataframe tbody tr th:only-of-type {\n",
       "        vertical-align: middle;\n",
       "    }\n",
       "\n",
       "    .dataframe tbody tr th {\n",
       "        vertical-align: top;\n",
       "    }\n",
       "\n",
       "    .dataframe thead th {\n",
       "        text-align: right;\n",
       "    }\n",
       "</style>\n",
       "<table border=\"1\" class=\"dataframe\">\n",
       "  <thead>\n",
       "    <tr style=\"text-align: right;\">\n",
       "      <th></th>\n",
       "      <th>person_id</th>\n",
       "      <th>eta</th>\n",
       "    </tr>\n",
       "  </thead>\n",
       "  <tbody>\n",
       "    <tr>\n",
       "      <th>count</th>\n",
       "      <td>9.155900e+04</td>\n",
       "      <td>91559.000000</td>\n",
       "    </tr>\n",
       "    <tr>\n",
       "      <th>mean</th>\n",
       "      <td>1.490752e+08</td>\n",
       "      <td>43.024421</td>\n",
       "    </tr>\n",
       "    <tr>\n",
       "      <th>std</th>\n",
       "      <td>5.250205e+08</td>\n",
       "      <td>12.622478</td>\n",
       "    </tr>\n",
       "    <tr>\n",
       "      <th>min</th>\n",
       "      <td>1.400000e+02</td>\n",
       "      <td>21.000000</td>\n",
       "    </tr>\n",
       "    <tr>\n",
       "      <th>25%</th>\n",
       "      <td>7.756750e+04</td>\n",
       "      <td>32.000000</td>\n",
       "    </tr>\n",
       "    <tr>\n",
       "      <th>50%</th>\n",
       "      <td>1.472480e+05</td>\n",
       "      <td>42.000000</td>\n",
       "    </tr>\n",
       "    <tr>\n",
       "      <th>75%</th>\n",
       "      <td>2.204750e+05</td>\n",
       "      <td>54.000000</td>\n",
       "    </tr>\n",
       "    <tr>\n",
       "      <th>max</th>\n",
       "      <td>2.000028e+09</td>\n",
       "      <td>91.000000</td>\n",
       "    </tr>\n",
       "  </tbody>\n",
       "</table>\n",
       "</div>"
      ],
      "text/plain": [
       "          person_id           eta\n",
       "count  9.155900e+04  91559.000000\n",
       "mean   1.490752e+08     43.024421\n",
       "std    5.250205e+08     12.622478\n",
       "min    1.400000e+02     21.000000\n",
       "25%    7.756750e+04     32.000000\n",
       "50%    1.472480e+05     42.000000\n",
       "75%    2.204750e+05     54.000000\n",
       "max    2.000028e+09     91.000000"
      ]
     },
     "execution_count": 11,
     "metadata": {},
     "output_type": "execute_result"
    }
   ],
   "source": [
    "df_alboweb.describe()"
   ]
  },
  {
   "cell_type": "code",
   "execution_count": 12,
   "metadata": {},
   "outputs": [
    {
     "data": {
      "text/html": [
       "<div>\n",
       "<style scoped>\n",
       "    .dataframe tbody tr th:only-of-type {\n",
       "        vertical-align: middle;\n",
       "    }\n",
       "\n",
       "    .dataframe tbody tr th {\n",
       "        vertical-align: top;\n",
       "    }\n",
       "\n",
       "    .dataframe thead th {\n",
       "        text-align: right;\n",
       "    }\n",
       "</style>\n",
       "<table border=\"1\" class=\"dataframe\">\n",
       "  <thead>\n",
       "    <tr style=\"text-align: right;\">\n",
       "      <th></th>\n",
       "      <th>person_id</th>\n",
       "      <th>eta</th>\n",
       "    </tr>\n",
       "  </thead>\n",
       "  <tbody>\n",
       "    <tr>\n",
       "      <th>count</th>\n",
       "      <td>4.831300e+04</td>\n",
       "      <td>48313.000000</td>\n",
       "    </tr>\n",
       "    <tr>\n",
       "      <th>mean</th>\n",
       "      <td>1.376712e+08</td>\n",
       "      <td>43.443814</td>\n",
       "    </tr>\n",
       "    <tr>\n",
       "      <th>std</th>\n",
       "      <td>5.061499e+08</td>\n",
       "      <td>12.263470</td>\n",
       "    </tr>\n",
       "    <tr>\n",
       "      <th>min</th>\n",
       "      <td>3.414000e+03</td>\n",
       "      <td>21.000000</td>\n",
       "    </tr>\n",
       "    <tr>\n",
       "      <th>25%</th>\n",
       "      <td>1.021090e+05</td>\n",
       "      <td>33.000000</td>\n",
       "    </tr>\n",
       "    <tr>\n",
       "      <th>50%</th>\n",
       "      <td>1.503560e+05</td>\n",
       "      <td>43.000000</td>\n",
       "    </tr>\n",
       "    <tr>\n",
       "      <th>75%</th>\n",
       "      <td>2.018370e+05</td>\n",
       "      <td>54.000000</td>\n",
       "    </tr>\n",
       "    <tr>\n",
       "      <th>max</th>\n",
       "      <td>2.001008e+09</td>\n",
       "      <td>94.000000</td>\n",
       "    </tr>\n",
       "  </tbody>\n",
       "</table>\n",
       "</div>"
      ],
      "text/plain": [
       "          person_id           eta\n",
       "count  4.831300e+04  48313.000000\n",
       "mean   1.376712e+08     43.443814\n",
       "std    5.061499e+08     12.263470\n",
       "min    3.414000e+03     21.000000\n",
       "25%    1.021090e+05     33.000000\n",
       "50%    1.503560e+05     43.000000\n",
       "75%    2.018370e+05     54.000000\n",
       "max    2.001008e+09     94.000000"
      ]
     },
     "execution_count": 12,
     "metadata": {},
     "output_type": "execute_result"
    }
   ],
   "source": [
    "df_fnofi.describe()"
   ]
  },
  {
   "cell_type": "code",
   "execution_count": 13,
   "metadata": {},
   "outputs": [
    {
     "data": {
      "image/png": "[encoded data removed]",
      "text/plain": [
       "<Figure size 1000x600 with 1 Axes>"
      ]
     },
     "metadata": {},
     "output_type": "display_data"
    }
   ],
   "source": [
    "# Converti 'last_update_date' in datetime\n",
    "df_fnomceo['last_update_date'] = pd.to_datetime(df_fnomceo['last_update_date'], format='%d/%m/%Y')\n",
    "\n",
    "# Calcola la differenza in giorni dalla data di ultimo aggiornamento a oggi\n",
    "df_fnomceo['days_since_last_update'] = (pd.Timestamp.now() - df_fnomceo['last_update_date']).dt.days\n",
    "\n",
    "# Crea un box plot dei giorni trascorsi dall'ultimo aggiornamento\n",
    "plt.figure(figsize=(10, 6))\n",
    "df_fnomceo['days_since_last_update'].plot(kind='box')\n",
    "plt.title('Days Since Last Update')\n",
    "plt.ylabel('Days')\n",
    "plt.show()"
   ]
  }
 ],
 "metadata": {
  "kernelspec": {
   "display_name": "fnomceo",
   "language": "python",
   "name": "python3"
  },
  "language_info": {
   "codemirror_mode": {
    "name": "ipython",
    "version": 3
   },
   "file_extension": ".py",
   "mimetype": "text/x-python",
   "name": "python",
   "nbconvert_exporter": "python",
   "pygments_lexer": "ipython3",
   "version": "3.12.1"
  }
 },
 "nbformat": 4,
 "nbformat_minor": 2
}
